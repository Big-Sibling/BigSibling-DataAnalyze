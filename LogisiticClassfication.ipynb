{
 "cells": [
  {
   "cell_type": "code",
   "execution_count": null,
   "metadata": {},
   "outputs": [],
   "source": [
    "x_data = [[1,2], [2,3], [3,1], [4,3], [5,3]]\n",
    "y_data = [[0], [0], [0], [0], [0], [0], [0]]"
   ]
  },
  {
   "cell_type": "code",
   "execution_count": null,
   "metadata": {},
   "outputs": [],
   "source": [
    "#placeholders for a tensor that will e \n",
    "x = tf.placeholder(tf.float32, shape=[None, 2])\n",
    "y = tf.placeholder(tf.float32, shape=[None, 1])"
   ]
  },
  {
   "cell_type": "code",
   "execution_count": null,
   "metadata": {},
   "outputs": [],
   "source": [
    "w = tf.Variable(tf.random_normal([2,1]), name = 'weight')\n",
    "b= tf.Variable(tf.random_normal([1]), name = 'bias')\n",
    "\n",
    "#Hypothesis using sigmoid : tf.div(1., 1. + tf.exp(-tf.matmul(x,w) + b))\n",
    "hypothesis = tf.sigmoid(tf.matmul(x,w) + b)\n",
    "\n",
    "#cost function\n",
    "cost = -tf.reduce_mean(y * tf.log(hypothesis) + (1 - y) * tf.log(1 - hypothesis))\n",
    "\n",
    "train= tf.train.GradientDescentOptimizer(learning_rate=0.01).minimize(cost)\n",
    "                \n"
   ]
  },
  {
   "cell_type": "code",
   "execution_count": null,
   "metadata": {},
   "outputs": [],
   "source": [
    "#Accuracy computation\n",
    "#Tre if hypothesis > 0.5 else false\n",
    "\n",
    "predicted = tf.cast(hypothesis > 0.5, dtype = float32)\n",
    "accuracy = tf.reduce_mean(tf.cast(tf.equal(predicted, y), dtype = float32))"
   ]
  },
  {
   "cell_type": "code",
   "execution_count": null,
   "metadata": {},
   "outputs": [],
   "source": [
    "#Launch graph\n",
    "with tf.Session() as sess :\n",
    "    #Initialize Tesorflow variables\n",
    "    sess.run(tf.global_variables_initializer())\n",
    "\n",
    "    for step in range(10001):\n",
    "        cost_val, _ =  sess.run([cost, train], feed_dict={x: x_data, y: y_data})\n",
    "        if step % 200 == 0:\n",
    "            print(step, cost_val)\n",
    "\n",
    "\n",
    "    # Accuracy report \n",
    "    h, c, a = sess.run([hypothesis , predicted, accuracy], \n",
    "                       feed_dict = [x : x_data, y:y_data])\n",
    "    print(\"Hypothesis: \", h, \"\\nCorrect: \", c, \"\\nAccuracy: \", a)"
   ]
  },
  {
   "cell_type": "code",
   "execution_count": null,
   "metadata": {},
   "outputs": [],
   "source": [
    "xy = np.loadtxt('dataset.csv', delimiter=',', dtype = np.float32)\n",
    "x_data = xy[:, 0:-1]\n",
    "y_data = xy[:, [-1]]\n"
   ]
  },
  {
   "cell_type": "code",
   "execution_count": null,
   "metadata": {},
   "outputs": [],
   "source": []
  }
 ],
 "metadata": {
  "language_info": {
   "name": "python"
  },
  "orig_nbformat": 4
 },
 "nbformat": 4,
 "nbformat_minor": 2
}
