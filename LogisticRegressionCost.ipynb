{
 "cells": [
  {
   "cell_type": "code",
   "execution_count": null,
   "metadata": {},
   "outputs": [],
   "source": [
    "#Gredicent Decnet Algorithm\n",
    "\n",
    "#cost function\n",
    "cost = tf.reduce_mean(-tf.reduce_sum(y))"
   ]
  }
 ],
 "metadata": {
  "language_info": {
   "name": "python"
  },
  "orig_nbformat": 4
 },
 "nbformat": 4,
 "nbformat_minor": 2
}
