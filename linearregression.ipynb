{
 "cells": [
  {
   "attachments": {},
   "cell_type": "markdown",
   "metadata": {},
   "source": [
    "## linear regression텐서플로 구현 코드"
   ]
  },
  {
   "cell_type": "code",
   "execution_count": null,
   "metadata": {},
   "outputs": [],
   "source": [
    "# 필요 라이브러리 -> 앞으로 꼬박꼬박 불러오게 될 것\n",
    "from tensorflow.keras.models import Sequential\n",
    "from tensorflow.keras.layers import Dense"
   ]
  },
  {
   "cell_type": "code",
   "execution_count": null,
   "metadata": {},
   "outputs": [],
   "source": [
    "#add 는 레이어 더하는 것 dense는 쌓아올린다는 뜻\n",
    "# dense안에서 몇개의 레이어를 어떤 인풋으로 어떤 활성함수를 써서 쌓아올릴 건지 선언\n",
    "# compile은 실행 부분 여기선 확률적경사하강법과 잔차제곱평균을 이용했다\n",
    "# fit은 파이토치와 마찬가지로 모델을 학습시킴\n",
    "model.add(Dense(1, input_dim=1, activation='linear')) \n",
    "model.compile(optimizer='sgd', loss='mse')\n",
    "model.fit(x, y, epochs=2000)"
   ]
  },
  {
   "cell_type": "code",
   "execution_count": null,
   "metadata": {},
   "outputs": [],
   "source": [
    "## 전체코드\n",
    "import numpy as np\n",
    "import matplotlib.pyplot as plt\n",
    "\n",
    "# 텐서플로의 케라스 API에서 필요한 함수들을 불러옵니다.\n",
    "from tensorflow.keras.models import Sequential\n",
    "from tensorflow.keras.layers import Dense\n",
    "\n",
    "x = np.array([2, 4, 6, 8])\n",
    "y = np.array([81, 93, 91, 97])\n",
    "\n",
    "model = Sequential() #nn.module과 같은 것\n",
    "\n",
    "# 출력 값, 입력 변수, 분석 방법에 맞게끔 모델을 설정합니다.\n",
    "model.add(Dense(1, input_dim=1, activation='linear'))\n",
    "\n",
    "# 오차 수정을 위해 경사 하강법(sgd)을, 오차의 정도를 판단하기 위해\n",
    "# 평균 제곱 오차(mse)를 사용합니다.\n",
    "model.compile(optimizer='sgd', loss='mse')\n",
    "\n",
    "# 오차를 최소화하는 과정을 2000번 반복합니다.\n",
    "model.fit(x, y, epochs=2000)\n",
    "\n",
    "plt.scatter(x, y)\n",
    "plt.plot(x, model.predict(x), 'r')    # 예측 결과를 그래프로 나타냅니다.\n",
    "plt.show()\n",
    "\n",
    "# 임의의 시간을 집어넣어 점수를 예측하는 모델을 테스트해 보겠습니다.\n",
    "hour = 7\n",
    "prediction = model.predict([hour])\n",
    "print(\"%.f시간을 공부할 경우의 예상 점수는 %.02f점입니다.\" % (hour, prediction))"
   ]
  },
  {
   "cell_type": "code",
   "execution_count": null,
   "metadata": {},
   "outputs": [],
   "source": []
  }
 ],
 "metadata": {
  "language_info": {
   "name": "python"
  },
  "orig_nbformat": 4
 },
 "nbformat": 4,
 "nbformat_minor": 2
}
