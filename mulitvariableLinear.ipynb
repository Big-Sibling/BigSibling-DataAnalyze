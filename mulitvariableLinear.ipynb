{
 "cells": [
  {
   "cell_type": "code",
   "execution_count": null,
   "metadata": {},
   "outputs": [],
   "source": [
    "import tensorflow as tf\n",
    "x1_data = [73, 93, 89, 96, 73]\n",
    "x2_data = [80, 88, 91 , 98, 66]\n",
    "x3_data = [75, 93, 90, 100, 70]\n",
    "y_data = [152, 185, 180, 196, 142 ]\n",
    "\n"
   ]
  },
  {
   "cell_type": "code",
   "execution_count": null,
   "metadata": {},
   "outputs": [],
   "source": [
    "#placeholder for a tensor that will be always fed.\n",
    "x1= tf.placeholder(tf.float32)\n",
    "x2 = tf.placeholder(tf.float32)\n",
    "x3 = tf.paceholder(tf.float32)\n",
    "y = tf.placeholder(tf.float32)"
   ]
  },
  {
   "cell_type": "code",
   "execution_count": null,
   "metadata": {},
   "outputs": [],
   "source": [
    "w1 = tf.Variable(tf.random_normal([1]), name = 'weight1')\n",
    "w2 = tf.Variable(tf.random_normal([1]), name = 'weight2')\n",
    "w3 = tf.Variable(tf.random_normal([1]), name = 'weight3')\n",
    "b= tf.Variable(tf.random_normal([1]), name = 'bias')\n",
    "hypothesis = tf.matmul(x, w1) + tf.matmul(x, w2) + tf.matmul(x, w3) + b"
   ]
  },
  {
   "cell_type": "code",
   "execution_count": null,
   "metadata": {},
   "outputs": [],
   "source": [
    "cost = tf.reduce_mean(tf.square(tf.subtract(y_true, hypothesis)))\n",
    "#Minimize. Need a very small Learning rate for this data set\n",
    "optimizer = tf.train.GredientDescentOptimizer(learning_rate = 1e - 5)\n",
    "train=optimizer.minimize(cost)\n",
    "\n",
    "\n",
    "#launch the graph is a session\n",
    "\n",
    "sess= tf.session()\n",
    "\n",
    "#Initialize global variables in the graph\n",
    "\n",
    "sess.run(tf.global_variables_initializer())\n",
    "for step in range(2001):\n",
    "    cost_val, hy_val,_ = sess.run([cost, hypothesis, train], feed_dict={x1: x2_data, x2: x2_data, x3: x3_dta, Y: y_data})\n",
    "\n",
    "    if step & 10 == 0:\n",
    "        print(step, \"Cost :\", cost_val, \"Hypothesis :\", \"\\n hypothesis :\",hy_val)"
   ]
  },
  {
   "cell_type": "code",
   "execution_count": null,
   "metadata": {},
   "outputs": [],
   "source": [
    "x_data = [[73, 93, 89, 96, 73]\n",
    ",[80, 88, 91 , 98, 66]\n",
    ",[75, 93, 90, 100, 70]]\n",
    "y_data = [[152, 185, 180, 196, 142 ]]\n",
    "\n",
    "x= tf.placeholder(tf.float32, [None, 3])\n",
    "y= tf.placeholder(tf.float32, [None, 1])\n",
    "\n",
    "w= tf.Variable(tf.random_normal([3,1]), name='weight')\n",
    "\n",
    "b = tf.Variable(tf.random_normal([1]), name='bias')\n",
    "\n",
    "hypothesis = tf.matmul(X,W) + b"
   ]
  },
  {
   "attachments": {},
   "cell_type": "markdown",
   "metadata": {},
   "source": [
    "#Loading data from file "
   ]
  },
  {
   "cell_type": "code",
   "execution_count": null,
   "metadata": {},
   "outputs": [],
   "source": [
    "import numpy as np\n",
    "\n",
    "xy = np.loadtxt('data.csv', delimiter=',', skiprows=1, dtype = np.float32)\n",
    "x_data = xy[:, 0:-1]\n",
    "y_data = xy[:, [-1]]\n",
    "\n",
    "#Make sure the shape and data are OK\n",
    "\n",
    "print(x_data.shape, x_data , len(x_data))\n",
    "print(y_data.shape, y_data, len(y_data))"
   ]
  },
  {
   "cell_type": "code",
   "execution_count": null,
   "metadata": {},
   "outputs": [],
   "source": [
    "# tf.train.batch\n",
    "\n",
    "# collect batchs of csv in \n",
    "train_x_batch, train_y_bach = \\\n",
    "      tf.train.batch([xy[0: -1], xy[-1:]], batch_size = 10) #10개씩 데이터를 가져옴\n",
    "sess = tf.Session()\n",
    "\n",
    "\n",
    "#start populatin the filename queue\n",
    "coord = tf.train.Coordinator()\n",
    "threads = tf.train.start_queue_runners(sess=sess, coord=coord)\n",
    "\n",
    "for step in range(2001):\n",
    "    x_batch, y_batch = sess.run([train_x_batch, train_y_batch])\n",
    "\n",
    "\n",
    "coord.request_stop()\n",
    "coord.join(threads)"
   ]
  },
  {
   "cell_type": "code",
   "execution_count": null,
   "metadata": {},
   "outputs": [],
   "source": [
    "x = tf.placeholder(tf.float32)\n",
    "y = tf.placeholder(tf.float32)\n",
    "\n",
    "w=  tf.Variable(tf.random_normal())"
   ]
  }
 ],
 "metadata": {
  "language_info": {
   "name": "python"
  },
  "orig_nbformat": 4
 },
 "nbformat": 4,
 "nbformat_minor": 2
}
